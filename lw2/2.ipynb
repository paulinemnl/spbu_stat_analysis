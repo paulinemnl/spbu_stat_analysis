{
 "cells": [
  {
   "cell_type": "markdown",
   "metadata": {},
   "source": [
    "# Задание 2. Факторный анализ"
   ]
  },
  {
   "cell_type": "markdown",
   "metadata": {},
   "source": [
    "Применить факторный анализ для метрических переменных. Оценить вклад первых трех главных компонент Z1 , Z2 , Z3 в общую дисперсию, проинтерпретировать их по факторным нагрузкам, построить двумерные диаграммы 1-2, 1-3, 2-3 факторов, отметить на диаграммах значения порядковой переменной."
   ]
  },
  {
   "cell_type": "code",
   "execution_count": 1,
   "metadata": {},
   "outputs": [],
   "source": [
    "import pandas as pd\n",
    "import matplotlib\n",
    "import matplotlib.pyplot as plt\n",
    "matplotlib.style.use('ggplot')\n",
    "%matplotlib inline\n",
    "\n",
    "from sklearn.preprocessing import StandardScaler\n",
    "from sklearn.decomposition import PCA"
   ]
  },
  {
   "cell_type": "markdown",
   "metadata": {},
   "source": [
    "### Загрузка данных"
   ]
  },
  {
   "cell_type": "code",
   "execution_count": 2,
   "metadata": {},
   "outputs": [],
   "source": [
    "df = pd.read_csv('data_big.csv', sep = \",\", header = 0, index_col = False)\n",
    "df = df[['sweating.1', 'SBP.1', 'DBP.1', 'MBP.1', 'SV.1', 'CO.1', 'CI.1', 'TPR.1']]"
   ]
  },
  {
   "cell_type": "code",
   "execution_count": 3,
   "metadata": {},
   "outputs": [],
   "source": [
    "df = df.dropna().reset_index(drop = True)"
   ]
  },
  {
   "cell_type": "code",
   "execution_count": 4,
   "metadata": {},
   "outputs": [
    {
     "data": {
      "text/html": [
       "<div>\n",
       "<style scoped>\n",
       "    .dataframe tbody tr th:only-of-type {\n",
       "        vertical-align: middle;\n",
       "    }\n",
       "\n",
       "    .dataframe tbody tr th {\n",
       "        vertical-align: top;\n",
       "    }\n",
       "\n",
       "    .dataframe thead th {\n",
       "        text-align: right;\n",
       "    }\n",
       "</style>\n",
       "<table border=\"1\" class=\"dataframe\">\n",
       "  <thead>\n",
       "    <tr style=\"text-align: right;\">\n",
       "      <th></th>\n",
       "      <th>sweating.1</th>\n",
       "      <th>SBP.1</th>\n",
       "      <th>DBP.1</th>\n",
       "      <th>MBP.1</th>\n",
       "      <th>SV.1</th>\n",
       "      <th>CO.1</th>\n",
       "      <th>CI.1</th>\n",
       "      <th>TPR.1</th>\n",
       "    </tr>\n",
       "  </thead>\n",
       "  <tbody>\n",
       "    <tr>\n",
       "      <th>0</th>\n",
       "      <td>2</td>\n",
       "      <td>116</td>\n",
       "      <td>80</td>\n",
       "      <td>92</td>\n",
       "      <td>74.0</td>\n",
       "      <td>5.3</td>\n",
       "      <td>2.9</td>\n",
       "      <td>1387.0</td>\n",
       "    </tr>\n",
       "    <tr>\n",
       "      <th>1</th>\n",
       "      <td>1</td>\n",
       "      <td>144</td>\n",
       "      <td>70</td>\n",
       "      <td>95</td>\n",
       "      <td>168.0</td>\n",
       "      <td>11.4</td>\n",
       "      <td>5.6</td>\n",
       "      <td>663.0</td>\n",
       "    </tr>\n",
       "    <tr>\n",
       "      <th>2</th>\n",
       "      <td>1</td>\n",
       "      <td>140</td>\n",
       "      <td>92</td>\n",
       "      <td>108</td>\n",
       "      <td>55.0</td>\n",
       "      <td>5.4</td>\n",
       "      <td>2.8</td>\n",
       "      <td>1598.0</td>\n",
       "    </tr>\n",
       "    <tr>\n",
       "      <th>3</th>\n",
       "      <td>0</td>\n",
       "      <td>136</td>\n",
       "      <td>98</td>\n",
       "      <td>11</td>\n",
       "      <td>69.0</td>\n",
       "      <td>3.9</td>\n",
       "      <td>1.8</td>\n",
       "      <td>2292.0</td>\n",
       "    </tr>\n",
       "    <tr>\n",
       "      <th>4</th>\n",
       "      <td>1</td>\n",
       "      <td>144</td>\n",
       "      <td>90</td>\n",
       "      <td>108</td>\n",
       "      <td>39.0</td>\n",
       "      <td>3.3</td>\n",
       "      <td>1.7</td>\n",
       "      <td>2592.0</td>\n",
       "    </tr>\n",
       "  </tbody>\n",
       "</table>\n",
       "</div>"
      ],
      "text/plain": [
       "   sweating.1  SBP.1  DBP.1  MBP.1   SV.1  CO.1  CI.1   TPR.1\n",
       "0           2    116     80     92   74.0   5.3   2.9  1387.0\n",
       "1           1    144     70     95  168.0  11.4   5.6   663.0\n",
       "2           1    140     92    108   55.0   5.4   2.8  1598.0\n",
       "3           0    136     98     11   69.0   3.9   1.8  2292.0\n",
       "4           1    144     90    108   39.0   3.3   1.7  2592.0"
      ]
     },
     "execution_count": 4,
     "metadata": {},
     "output_type": "execute_result"
    }
   ],
   "source": [
    "df.head()"
   ]
  },
  {
   "cell_type": "markdown",
   "metadata": {},
   "source": [
    "### Факторный анализ"
   ]
  },
  {
   "cell_type": "markdown",
   "metadata": {},
   "source": [
    "Стандартизируем метрические переменные."
   ]
  },
  {
   "cell_type": "code",
   "execution_count": 5,
   "metadata": {},
   "outputs": [],
   "source": [
    "df_1 = df[['SBP.1', 'DBP.1', 'MBP.1', 'SV.1', 'CO.1', 'CI.1', 'TPR.1']]\n",
    "df_scaled = StandardScaler().fit_transform(df_1)\n",
    "df_scaled = pd.DataFrame(df_scaled)"
   ]
  },
  {
   "cell_type": "markdown",
   "metadata": {},
   "source": [
    "Реализация метода главных компонент содержится в классе ```PCA``` \n",
    "библиотеки ```sklearn.decomposition```."
   ]
  },
  {
   "cell_type": "code",
   "execution_count": 6,
   "metadata": {},
   "outputs": [
    {
     "data": {
      "text/plain": [
       "PCA(n_components=3)"
      ]
     },
     "execution_count": 6,
     "metadata": {},
     "output_type": "execute_result"
    }
   ],
   "source": [
    "pca = PCA(n_components = 3)\n",
    "pca.fit(df_scaled)"
   ]
  },
  {
   "cell_type": "markdown",
   "metadata": {},
   "source": [
    "Оценим вклад первых трех главных компонент в общую дисперсию."
   ]
  },
  {
   "cell_type": "code",
   "execution_count": 7,
   "metadata": {},
   "outputs": [
    {
     "name": "stdout",
     "output_type": "stream",
     "text": [
      "0.5270833696577619 0.2937592696417445 0.08827671560090011\n"
     ]
    }
   ],
   "source": [
    "print(*pca.explained_variance_ratio_)"
   ]
  },
  {
   "cell_type": "markdown",
   "metadata": {},
   "source": [
    "Факторные нагрузки."
   ]
  },
  {
   "cell_type": "code",
   "execution_count": 8,
   "metadata": {
    "scrolled": false
   },
   "outputs": [
    {
     "data": {
      "text/html": [
       "<div>\n",
       "<style scoped>\n",
       "    .dataframe tbody tr th:only-of-type {\n",
       "        vertical-align: middle;\n",
       "    }\n",
       "\n",
       "    .dataframe tbody tr th {\n",
       "        vertical-align: top;\n",
       "    }\n",
       "\n",
       "    .dataframe thead th {\n",
       "        text-align: right;\n",
       "    }\n",
       "</style>\n",
       "<table border=\"1\" class=\"dataframe\">\n",
       "  <thead>\n",
       "    <tr style=\"text-align: right;\">\n",
       "      <th></th>\n",
       "      <th>SBP.1</th>\n",
       "      <th>DBP.1</th>\n",
       "      <th>MBP.1</th>\n",
       "      <th>SV.1</th>\n",
       "      <th>CO.1</th>\n",
       "      <th>CI.1</th>\n",
       "      <th>TPR.1</th>\n",
       "    </tr>\n",
       "  </thead>\n",
       "  <tbody>\n",
       "    <tr>\n",
       "      <th>0</th>\n",
       "      <td>0.055209</td>\n",
       "      <td>-0.222417</td>\n",
       "      <td>0.024973</td>\n",
       "      <td>0.460398</td>\n",
       "      <td>0.505284</td>\n",
       "      <td>0.498953</td>\n",
       "      <td>-0.480236</td>\n",
       "    </tr>\n",
       "    <tr>\n",
       "      <th>1</th>\n",
       "      <td>0.632680</td>\n",
       "      <td>0.532941</td>\n",
       "      <td>0.532425</td>\n",
       "      <td>-0.055006</td>\n",
       "      <td>0.108793</td>\n",
       "      <td>0.124077</td>\n",
       "      <td>0.044242</td>\n",
       "    </tr>\n",
       "    <tr>\n",
       "      <th>2</th>\n",
       "      <td>0.292792</td>\n",
       "      <td>0.454789</td>\n",
       "      <td>-0.800162</td>\n",
       "      <td>0.235545</td>\n",
       "      <td>0.070563</td>\n",
       "      <td>0.000480</td>\n",
       "      <td>0.081975</td>\n",
       "    </tr>\n",
       "  </tbody>\n",
       "</table>\n",
       "</div>"
      ],
      "text/plain": [
       "      SBP.1     DBP.1     MBP.1      SV.1      CO.1      CI.1     TPR.1\n",
       "0  0.055209 -0.222417  0.024973  0.460398  0.505284  0.498953 -0.480236\n",
       "1  0.632680  0.532941  0.532425 -0.055006  0.108793  0.124077  0.044242\n",
       "2  0.292792  0.454789 -0.800162  0.235545  0.070563  0.000480  0.081975"
      ]
     },
     "execution_count": 8,
     "metadata": {},
     "output_type": "execute_result"
    }
   ],
   "source": [
    "pd.DataFrame(pca.components_, columns = df_1.columns)"
   ]
  },
  {
   "cell_type": "markdown",
   "metadata": {},
   "source": [
    "Значения факторов."
   ]
  },
  {
   "cell_type": "code",
   "execution_count": 9,
   "metadata": {
    "scrolled": true
   },
   "outputs": [
    {
     "data": {
      "text/html": [
       "<div>\n",
       "<style scoped>\n",
       "    .dataframe tbody tr th:only-of-type {\n",
       "        vertical-align: middle;\n",
       "    }\n",
       "\n",
       "    .dataframe tbody tr th {\n",
       "        vertical-align: top;\n",
       "    }\n",
       "\n",
       "    .dataframe thead th {\n",
       "        text-align: right;\n",
       "    }\n",
       "</style>\n",
       "<table border=\"1\" class=\"dataframe\">\n",
       "  <thead>\n",
       "    <tr style=\"text-align: right;\">\n",
       "      <th></th>\n",
       "      <th>Factor 1</th>\n",
       "      <th>Factor 2</th>\n",
       "      <th>Factor 3</th>\n",
       "      <th>sweating.1</th>\n",
       "    </tr>\n",
       "  </thead>\n",
       "  <tbody>\n",
       "    <tr>\n",
       "      <th>0</th>\n",
       "      <td>0.165782</td>\n",
       "      <td>-1.890485</td>\n",
       "      <td>-0.473520</td>\n",
       "      <td>2</td>\n",
       "    </tr>\n",
       "    <tr>\n",
       "      <th>1</th>\n",
       "      <td>5.217857</td>\n",
       "      <td>-0.868861</td>\n",
       "      <td>0.259581</td>\n",
       "      <td>1</td>\n",
       "    </tr>\n",
       "    <tr>\n",
       "      <th>2</th>\n",
       "      <td>-0.464040</td>\n",
       "      <td>0.108708</td>\n",
       "      <td>-0.294290</td>\n",
       "      <td>1</td>\n",
       "    </tr>\n",
       "    <tr>\n",
       "      <th>3</th>\n",
       "      <td>-1.905945</td>\n",
       "      <td>-2.553623</td>\n",
       "      <td>4.040858</td>\n",
       "      <td>0</td>\n",
       "    </tr>\n",
       "    <tr>\n",
       "      <th>4</th>\n",
       "      <td>-2.446917</td>\n",
       "      <td>0.006686</td>\n",
       "      <td>-0.379766</td>\n",
       "      <td>1</td>\n",
       "    </tr>\n",
       "  </tbody>\n",
       "</table>\n",
       "</div>"
      ],
      "text/plain": [
       "   Factor 1  Factor 2  Factor 3  sweating.1\n",
       "0  0.165782 -1.890485 -0.473520           2\n",
       "1  5.217857 -0.868861  0.259581           1\n",
       "2 -0.464040  0.108708 -0.294290           1\n",
       "3 -1.905945 -2.553623  4.040858           0\n",
       "4 -2.446917  0.006686 -0.379766           1"
      ]
     },
     "execution_count": 9,
     "metadata": {},
     "output_type": "execute_result"
    }
   ],
   "source": [
    "scores = pd.DataFrame(pca.transform(df_scaled), columns = ['Factor 1', 'Factor 2', 'Factor 3'])\n",
    "scores = pd.concat([scores, df[['sweating.1']]], axis = 1)\n",
    "scores.head()"
   ]
  },
  {
   "cell_type": "markdown",
   "metadata": {},
   "source": [
    "Двумерные диаграммы 1-2, 1-3, 2-3 факторов."
   ]
  },
  {
   "cell_type": "code",
   "execution_count": 10,
   "metadata": {},
   "outputs": [
    {
     "data": {
      "image/png": "[encoded data removed]",
      "text/plain": [
       "<Figure size 504x504 with 1 Axes>"
      ]
     },
     "metadata": {
      "needs_background": "light"
     },
     "output_type": "display_data"
    },
    {
     "data": {
      "image/png": "[encoded data removed]",
      "text/plain": [
       "<Figure size 504x504 with 1 Axes>"
      ]
     },
     "metadata": {
      "needs_background": "light"
     },
     "output_type": "display_data"
    },
    {
     "data": {
      "image/png": "[encoded data removed]",
      "text/plain": [
       "<Figure size 504x504 with 1 Axes>"
      ]
     },
     "metadata": {
      "needs_background": "light"
     },
     "output_type": "display_data"
    }
   ],
   "source": [
    "fig = plt.figure(figsize = (7,7))\n",
    "ax = fig.add_subplot(1, 1, 1)\n",
    "ax.set_xlabel('Factor 1', fontsize = 15)\n",
    "ax.set_ylabel('Factor 2', fontsize = 15)\n",
    "ax.set_title('Факторы 1-2', fontsize = 20)\n",
    "colors = ['r', 'g', 'b']\n",
    "targets = [0, 1, 2]\n",
    "for target, color in zip(targets,colors):\n",
    "    ins = scores['sweating.1'] == target\n",
    "    ax.scatter(scores.loc[ins, 'Factor 1'], scores.loc[ins, 'Factor 2'], c = color)\n",
    "ax.legend(targets, title = 'sweating.1', title_fontsize = '10', facecolor = 'white', edgecolor = 'black')\n",
    "plt.show()\n",
    "\n",
    "fig = plt.figure(figsize = (7,7))\n",
    "ax = fig.add_subplot(1, 1, 1)\n",
    "ax.set_xlabel('Factor 1', fontsize = 15)\n",
    "ax.set_ylabel('Factor 3', fontsize = 15)\n",
    "ax.set_title('Факторы 1-3', fontsize = 20)\n",
    "colors = ['r', 'g', 'b']\n",
    "targets = [0, 1, 2]\n",
    "for target, color in zip(targets,colors):\n",
    "    ins = scores['sweating.1'] == target\n",
    "    ax.scatter(scores.loc[ins, 'Factor 1'], scores.loc[ins, 'Factor 3'], c = color)\n",
    "ax.legend(targets, title = 'sweating.1', title_fontsize = '10', facecolor = 'white', edgecolor = 'black')\n",
    "plt.show()\n",
    "\n",
    "fig = plt.figure(figsize = (7,7))\n",
    "ax = fig.add_subplot(1, 1, 1)\n",
    "ax.set_xlabel('Factor 2', fontsize = 15)\n",
    "ax.set_ylabel('Factor 3', fontsize = 15)\n",
    "ax.set_title('Факторы 2-3', fontsize = 20)\n",
    "colors = ['r', 'g', 'b']\n",
    "targets = [0, 1, 2]\n",
    "for target, color in zip(targets,colors):\n",
    "    ins = scores['sweating.1'] == target\n",
    "    ax.scatter(scores.loc[ins, 'Factor 2'], scores.loc[ins, 'Factor 3'], c = color)\n",
    "ax.legend(targets, title = 'sweating.1', title_fontsize = '10', facecolor = 'white', edgecolor = 'black')\n",
    "plt.show()"
   ]
  }
 ],
 "metadata": {
  "kernelspec": {
   "display_name": "Python 3",
   "language": "python",
   "name": "python3"
  },
  "language_info": {
   "codemirror_mode": {
    "name": "ipython",
    "version": 3
   },
   "file_extension": ".py",
   "mimetype": "text/x-python",
   "name": "python",
   "nbconvert_exporter": "python",
   "pygments_lexer": "ipython3",
   "version": "3.8.2"
  }
 },
 "nbformat": 4,
 "nbformat_minor": 4
}
